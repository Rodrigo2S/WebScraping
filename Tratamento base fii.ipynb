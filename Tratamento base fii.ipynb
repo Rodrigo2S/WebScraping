{
 "cells": [
  {
   "cell_type": "code",
   "execution_count": 1,
   "id": "b8b45dff",
   "metadata": {},
   "outputs": [],
   "source": [
    "import numpy as np\n",
    "import pandas as pd\n"
   ]
  },
  {
   "cell_type": "code",
   "execution_count": 12,
   "id": "a64ca025",
   "metadata": {},
   "outputs": [
    {
     "data": {
      "text/plain": [
       "(353, 8)"
      ]
     },
     "execution_count": 12,
     "metadata": {},
     "output_type": "execute_result"
    }
   ],
   "source": [
    "df = pd.read_csv('data_fii_raw.csv', sep=';', decimal= '.')\n",
    "df.shape"
   ]
  },
  {
   "cell_type": "code",
   "execution_count": 13,
   "id": "59e0f692",
   "metadata": {},
   "outputs": [
    {
     "data": {
      "text/html": [
       "<div>\n",
       "<style scoped>\n",
       "    .dataframe tbody tr th:only-of-type {\n",
       "        vertical-align: middle;\n",
       "    }\n",
       "\n",
       "    .dataframe tbody tr th {\n",
       "        vertical-align: top;\n",
       "    }\n",
       "\n",
       "    .dataframe thead th {\n",
       "        text-align: right;\n",
       "    }\n",
       "</style>\n",
       "<table border=\"1\" class=\"dataframe\">\n",
       "  <thead>\n",
       "    <tr style=\"text-align: right;\">\n",
       "      <th></th>\n",
       "      <th>nome_fii</th>\n",
       "      <th>liq diaria</th>\n",
       "      <th>ultimo rend</th>\n",
       "      <th>yield</th>\n",
       "      <th>patrim liquido</th>\n",
       "      <th>valor patrim</th>\n",
       "      <th>rent mes</th>\n",
       "      <th>p/vp</th>\n",
       "    </tr>\n",
       "  </thead>\n",
       "  <tbody>\n",
       "    <tr>\n",
       "      <th>0</th>\n",
       "      <td>ABCP11</td>\n",
       "      <td>1.721</td>\n",
       "      <td>R$ 0,65</td>\n",
       "      <td>0,88%</td>\n",
       "      <td>R$ 1,1 bi</td>\n",
       "      <td>R$ 91,83</td>\n",
       "      <td>-0,60%</td>\n",
       "      <td>0,79</td>\n",
       "    </tr>\n",
       "    <tr>\n",
       "      <th>1</th>\n",
       "      <td>AFCR11</td>\n",
       "      <td>957</td>\n",
       "      <td>R$ 1,30</td>\n",
       "      <td>1,25%</td>\n",
       "      <td>R$ 154,9 mi</td>\n",
       "      <td>R$ 102,29</td>\n",
       "      <td>1,05%</td>\n",
       "      <td>1,01</td>\n",
       "    </tr>\n",
       "    <tr>\n",
       "      <th>2</th>\n",
       "      <td>AFHI11</td>\n",
       "      <td>28.440</td>\n",
       "      <td>R$ 1,35</td>\n",
       "      <td>1,36%</td>\n",
       "      <td>R$ 173,8 mi</td>\n",
       "      <td>R$ 97,24</td>\n",
       "      <td>-2,21%</td>\n",
       "      <td>1,10</td>\n",
       "    </tr>\n",
       "    <tr>\n",
       "      <th>3</th>\n",
       "      <td>AFOF11</td>\n",
       "      <td>1.863</td>\n",
       "      <td>R$ 0,60</td>\n",
       "      <td>1,28%</td>\n",
       "      <td>R$ 70,7 mi</td>\n",
       "      <td>R$ 102,32</td>\n",
       "      <td>-4,13%</td>\n",
       "      <td>0,87</td>\n",
       "    </tr>\n",
       "    <tr>\n",
       "      <th>4</th>\n",
       "      <td>AIEC11</td>\n",
       "      <td>1.639</td>\n",
       "      <td>R$ 0,72</td>\n",
       "      <td>0,90%</td>\n",
       "      <td>R$ 488,5 mi</td>\n",
       "      <td>R$ 101,24</td>\n",
       "      <td>-3,08%</td>\n",
       "      <td>0,79</td>\n",
       "    </tr>\n",
       "  </tbody>\n",
       "</table>\n",
       "</div>"
      ],
      "text/plain": [
       "  nome_fii liq diaria ultimo rend  yield patrim liquido valor patrim rent mes  \\\n",
       "0   ABCP11      1.721     R$ 0,65  0,88%      R$ 1,1 bi     R$ 91,83   -0,60%   \n",
       "1   AFCR11        957     R$ 1,30  1,25%    R$ 154,9 mi    R$ 102,29    1,05%   \n",
       "2   AFHI11     28.440     R$ 1,35  1,36%    R$ 173,8 mi     R$ 97,24   -2,21%   \n",
       "3   AFOF11      1.863     R$ 0,60  1,28%     R$ 70,7 mi    R$ 102,32   -4,13%   \n",
       "4   AIEC11      1.639     R$ 0,72  0,90%    R$ 488,5 mi    R$ 101,24   -3,08%   \n",
       "\n",
       "   p/vp  \n",
       "0  0,79  \n",
       "1  1,01  \n",
       "2  1,10  \n",
       "3  0,87  \n",
       "4  0,79  "
      ]
     },
     "execution_count": 13,
     "metadata": {},
     "output_type": "execute_result"
    }
   ],
   "source": [
    "df.head()"
   ]
  },
  {
   "cell_type": "code",
   "execution_count": 14,
   "id": "7a40e171",
   "metadata": {},
   "outputs": [
    {
     "data": {
      "text/plain": [
       "nome_fii          object\n",
       "liq diaria        object\n",
       "ultimo rend       object\n",
       "yield             object\n",
       "patrim liquido    object\n",
       "valor patrim      object\n",
       "rent mes          object\n",
       "p/vp              object\n",
       "dtype: object"
      ]
     },
     "execution_count": 14,
     "metadata": {},
     "output_type": "execute_result"
    }
   ],
   "source": [
    "df.dtypes"
   ]
  },
  {
   "cell_type": "code",
   "execution_count": 15,
   "id": "cddaf239",
   "metadata": {},
   "outputs": [
    {
     "data": {
      "text/plain": [
       "nome_fii           0\n",
       "liq diaria        30\n",
       "ultimo rend       20\n",
       "yield             36\n",
       "patrim liquido     6\n",
       "valor patrim       6\n",
       "rent mes          33\n",
       "p/vp              30\n",
       "dtype: int64"
      ]
     },
     "execution_count": 15,
     "metadata": {},
     "output_type": "execute_result"
    }
   ],
   "source": [
    "df.isnull().sum()  ## pergunta pra base se ela tem elemento nulo"
   ]
  },
  {
   "cell_type": "code",
   "execution_count": 16,
   "id": "adbc85b3",
   "metadata": {},
   "outputs": [],
   "source": [
    "df = df.fillna (\"0\") ## zerar elementos nulo"
   ]
  },
  {
   "cell_type": "code",
   "execution_count": 17,
   "id": "24955c52",
   "metadata": {},
   "outputs": [
    {
     "data": {
      "text/plain": [
       "nome_fii          0\n",
       "liq diaria        0\n",
       "ultimo rend       0\n",
       "yield             0\n",
       "patrim liquido    0\n",
       "valor patrim      0\n",
       "rent mes          0\n",
       "p/vp              0\n",
       "dtype: int64"
      ]
     },
     "execution_count": 17,
     "metadata": {},
     "output_type": "execute_result"
    }
   ],
   "source": [
    "df.isnull().sum()"
   ]
  },
  {
   "cell_type": "code",
   "execution_count": 18,
   "id": "adc4d5bf",
   "metadata": {},
   "outputs": [
    {
     "data": {
      "text/html": [
       "<div>\n",
       "<style scoped>\n",
       "    .dataframe tbody tr th:only-of-type {\n",
       "        vertical-align: middle;\n",
       "    }\n",
       "\n",
       "    .dataframe tbody tr th {\n",
       "        vertical-align: top;\n",
       "    }\n",
       "\n",
       "    .dataframe thead th {\n",
       "        text-align: right;\n",
       "    }\n",
       "</style>\n",
       "<table border=\"1\" class=\"dataframe\">\n",
       "  <thead>\n",
       "    <tr style=\"text-align: right;\">\n",
       "      <th></th>\n",
       "      <th>nome_fii</th>\n",
       "      <th>liq diaria</th>\n",
       "      <th>ultimo rend</th>\n",
       "      <th>yield</th>\n",
       "      <th>patrim liquido</th>\n",
       "      <th>valor patrim</th>\n",
       "      <th>rent mes</th>\n",
       "      <th>p/vp</th>\n",
       "    </tr>\n",
       "  </thead>\n",
       "  <tbody>\n",
       "    <tr>\n",
       "      <th>0</th>\n",
       "      <td>ABCP11</td>\n",
       "      <td>1.721</td>\n",
       "      <td>R$ 0,65</td>\n",
       "      <td>0,88%</td>\n",
       "      <td>R$ 1,1 bi</td>\n",
       "      <td>R$ 91,83</td>\n",
       "      <td>-0,60%</td>\n",
       "      <td>0,79</td>\n",
       "    </tr>\n",
       "    <tr>\n",
       "      <th>1</th>\n",
       "      <td>AFCR11</td>\n",
       "      <td>957</td>\n",
       "      <td>R$ 1,30</td>\n",
       "      <td>1,25%</td>\n",
       "      <td>R$ 154,9 mi</td>\n",
       "      <td>R$ 102,29</td>\n",
       "      <td>1,05%</td>\n",
       "      <td>1,01</td>\n",
       "    </tr>\n",
       "    <tr>\n",
       "      <th>2</th>\n",
       "      <td>AFHI11</td>\n",
       "      <td>28.440</td>\n",
       "      <td>R$ 1,35</td>\n",
       "      <td>1,36%</td>\n",
       "      <td>R$ 173,8 mi</td>\n",
       "      <td>R$ 97,24</td>\n",
       "      <td>-2,21%</td>\n",
       "      <td>1,10</td>\n",
       "    </tr>\n",
       "    <tr>\n",
       "      <th>3</th>\n",
       "      <td>AFOF11</td>\n",
       "      <td>1.863</td>\n",
       "      <td>R$ 0,60</td>\n",
       "      <td>1,28%</td>\n",
       "      <td>R$ 70,7 mi</td>\n",
       "      <td>R$ 102,32</td>\n",
       "      <td>-4,13%</td>\n",
       "      <td>0,87</td>\n",
       "    </tr>\n",
       "    <tr>\n",
       "      <th>4</th>\n",
       "      <td>AIEC11</td>\n",
       "      <td>1.639</td>\n",
       "      <td>R$ 0,72</td>\n",
       "      <td>0,90%</td>\n",
       "      <td>R$ 488,5 mi</td>\n",
       "      <td>R$ 101,24</td>\n",
       "      <td>-3,08%</td>\n",
       "      <td>0,79</td>\n",
       "    </tr>\n",
       "  </tbody>\n",
       "</table>\n",
       "</div>"
      ],
      "text/plain": [
       "  nome_fii liq diaria ultimo rend  yield patrim liquido valor patrim rent mes  \\\n",
       "0   ABCP11      1.721     R$ 0,65  0,88%      R$ 1,1 bi     R$ 91,83   -0,60%   \n",
       "1   AFCR11        957     R$ 1,30  1,25%    R$ 154,9 mi    R$ 102,29    1,05%   \n",
       "2   AFHI11     28.440     R$ 1,35  1,36%    R$ 173,8 mi     R$ 97,24   -2,21%   \n",
       "3   AFOF11      1.863     R$ 0,60  1,28%     R$ 70,7 mi    R$ 102,32   -4,13%   \n",
       "4   AIEC11      1.639     R$ 0,72  0,90%    R$ 488,5 mi    R$ 101,24   -3,08%   \n",
       "\n",
       "   p/vp  \n",
       "0  0,79  \n",
       "1  1,01  \n",
       "2  1,10  \n",
       "3  0,87  \n",
       "4  0,79  "
      ]
     },
     "execution_count": 18,
     "metadata": {},
     "output_type": "execute_result"
    }
   ],
   "source": [
    "df.head()"
   ]
  },
  {
   "cell_type": "code",
   "execution_count": 9,
   "id": "2d66359e",
   "metadata": {},
   "outputs": [
    {
     "data": {
      "text/plain": [
       "0        1.721\n",
       "1          957\n",
       "2       28.440\n",
       "3        1.863\n",
       "4        1.639\n",
       "        ...   \n",
       "348     11.246\n",
       "349    182.572\n",
       "350        427\n",
       "351         65\n",
       "352          0\n",
       "Name: liq diaria, Length: 353, dtype: object"
      ]
     },
     "execution_count": 9,
     "metadata": {},
     "output_type": "execute_result"
    }
   ],
   "source": [
    "df['liq diaria']"
   ]
  },
  {
   "cell_type": "code",
   "execution_count": 19,
   "id": "f6005d50",
   "metadata": {},
   "outputs": [
    {
     "data": {
      "text/plain": [
       "array(['1.721', '957', '28.440', '1.863', '1.639', '51', '7.357', '1',\n",
       "       '432', '38.249', '153', '2.160', '0', '3', '7.188', '156', '3.343',\n",
       "       '5.361', '12.841', '1.234', '763', '39.138', '2.470', '7.828',\n",
       "       '24', '7.191', '2', '216', '16', '6.128', '4', '61.122', '5.190',\n",
       "       '136', '249', '3.436', '175', '12.145', '29.971', '20.300',\n",
       "       '5.161', '11.350', '32.378', '7.897', '282', '44.041', '24.473',\n",
       "       '319', '9', '224', '43', '8.002', '73.246', '97', '17.315',\n",
       "       '1.781', '580', '251', '2.069', '983', '161', '29.303', '2.543',\n",
       "       '42', '44', '713', '30', '1.891', '4.022', '3.703', '7.984', '107',\n",
       "       '565', '6', '1.142', '23', '330', '566', '8.552', '14.342',\n",
       "       '2.984', '971', '990', '200', '1.482', '1.644', '936', '257',\n",
       "       '5.663', '31', '3.042', '154', '13.628', '2.940', '1.024', '1.366',\n",
       "       '3.835', '300', '9.731', '54.618', '8.713', '11.316', '18.287',\n",
       "       '413', '531', '299', '68.871', '18.780', '5.433', '18.540',\n",
       "       '5.060', '29.107', '4.710', '13.271', '23.532', '1.168', '115',\n",
       "       '124', '93', '338', '110', '5.512', '3.817', '30.292', '11',\n",
       "       '1.187', '34', '7.000', '1.847', '1.710', '18', '350', '1.082',\n",
       "       '46.730', '9.721', '798', '1.077', '2.212', '2.590', '3.135',\n",
       "       '1.224', '29.301', '2.185', '11.216', '145.026', '15.809',\n",
       "       '95.444', '25.587', '122.675', '591', '29.311', '42.851', '210',\n",
       "       '201', '844', '342', '12.034', '13.096', '270', '2.188', '28.483',\n",
       "       '199.250', '172.404', '189', '4.676', '857', '10.433', '594',\n",
       "       '1.229', '2.014', '11.380', '453.510', '415', '3.706', '236', '96',\n",
       "       '1.884', '167', '74', '3.079', '4.519', '2.035', '1.254', '217',\n",
       "       '2.383', '10.687', '6.928', '1.753', '392', '11.835', '22', '66',\n",
       "       '18.207', '8.840', '1.568', '27', '1.011', '6.417', '2.072', '225',\n",
       "       '1.695', '9.213', '5.157', '1.642', '294', '885', '2.501',\n",
       "       '18.649', '5', '1.992', '16.592', '26.149', '38', '3.939',\n",
       "       '19.221', '114', '3.854', '10.296', '683', '45.705', '12.467',\n",
       "       '184', '2.886', '2.122', '491', '8', '2.041', '1.388', '2.266',\n",
       "       '210.328', '7.078', '29.597', '12.868', '35.747', '37', '15.807',\n",
       "       '182', '11.740', '7.755', '5.744', '100', '17.843', '6.662',\n",
       "       '4.357', '104', '13.109', '1.500', '3.967', '19.147', '477',\n",
       "       '54.119', '13', '27.159', '9.524', '17.369', '46.599', '13.796',\n",
       "       '1.716', '1.023.478', '88.773', '21.774', '21.069', '20.574',\n",
       "       '21.569', '29.878', '17.288', '28.727', '203', '25.609', '57',\n",
       "       '92.223', '601', '10.198', '2.269', '80', '69.373', '25.050',\n",
       "       '4.588', '10', '8.010', '30.942', '25.409', '11.246', '182.572',\n",
       "       '427', '65'], dtype=object)"
      ]
     },
     "execution_count": 19,
     "metadata": {},
     "output_type": "execute_result"
    }
   ],
   "source": [
    "df['liq diaria'].unique()"
   ]
  },
  {
   "cell_type": "code",
   "execution_count": 20,
   "id": "73700e8a",
   "metadata": {
    "scrolled": true
   },
   "outputs": [
    {
     "name": "stderr",
     "output_type": "stream",
     "text": [
      "C:\\Users\\Rodrigo\\AppData\\Local\\Temp\\ipykernel_6780\\1877913483.py:1: FutureWarning: The default value of regex will change from True to False in a future version. In addition, single character regular expressions will *not* be treated as literal strings when regex=True.\n",
      "  df['liq diaria'].str.replace('.','') ## substituir os pontos por vazio\n"
     ]
    },
    {
     "data": {
      "text/plain": [
       "0        1721\n",
       "1         957\n",
       "2       28440\n",
       "3        1863\n",
       "4        1639\n",
       "        ...  \n",
       "348     11246\n",
       "349    182572\n",
       "350       427\n",
       "351        65\n",
       "352         0\n",
       "Name: liq diaria, Length: 353, dtype: object"
      ]
     },
     "execution_count": 20,
     "metadata": {},
     "output_type": "execute_result"
    }
   ],
   "source": [
    "df['liq diaria'].str.replace('.','') ## substituir os pontos por vazio"
   ]
  },
  {
   "cell_type": "code",
   "execution_count": 33,
   "id": "40c2f44e",
   "metadata": {},
   "outputs": [
    {
     "data": {
      "text/plain": [
       "0        1721\n",
       "1         957\n",
       "2       28440\n",
       "3        1863\n",
       "4        1639\n",
       "        ...  \n",
       "348     11246\n",
       "349    182572\n",
       "350       427\n",
       "351        65\n",
       "352         0\n",
       "Name: liq diaria, Length: 353, dtype: int32"
      ]
     },
     "execution_count": 33,
     "metadata": {},
     "output_type": "execute_result"
    }
   ],
   "source": [
    "df['liq diaria'].str.replace('.','',regex=False).astype(int) ## substituir os pontos por vazio e tranformar em inteiro"
   ]
  },
  {
   "cell_type": "code",
   "execution_count": 27,
   "id": "ef488081",
   "metadata": {},
   "outputs": [
    {
     "data": {
      "text/plain": [
       "0        1.721\n",
       "1          957\n",
       "2       28.440\n",
       "3        1.863\n",
       "4        1.639\n",
       "        ...   \n",
       "348     11.246\n",
       "349    182.572\n",
       "350        427\n",
       "351         65\n",
       "352          0\n",
       "Name: liq diaria, Length: 353, dtype: object"
      ]
     },
     "execution_count": 27,
     "metadata": {},
     "output_type": "execute_result"
    }
   ],
   "source": [
    "df['liq diaria']"
   ]
  },
  {
   "cell_type": "code",
   "execution_count": 28,
   "id": "8eab8e48",
   "metadata": {},
   "outputs": [
    {
     "data": {
      "text/plain": [
       "0       R$ 0,65\n",
       "1       R$ 1,30\n",
       "2       R$ 1,35\n",
       "3       R$ 0,60\n",
       "4       R$ 0,72\n",
       "         ...   \n",
       "348     R$ 0,45\n",
       "349     R$ 0,68\n",
       "350     R$ 0,00\n",
       "351    R$ 19,41\n",
       "352     R$ 0,79\n",
       "Name: ultimo rend, Length: 353, dtype: object"
      ]
     },
     "execution_count": 28,
     "metadata": {},
     "output_type": "execute_result"
    }
   ],
   "source": [
    "df['ultimo rend']"
   ]
  },
  {
   "cell_type": "code",
   "execution_count": 36,
   "id": "cb934ca9",
   "metadata": {},
   "outputs": [
    {
     "ename": "AttributeError",
     "evalue": "Can only use .str accessor with string values!",
     "output_type": "error",
     "traceback": [
      "\u001b[1;31m---------------------------------------------------------------------------\u001b[0m",
      "\u001b[1;31mAttributeError\u001b[0m                            Traceback (most recent call last)",
      "Input \u001b[1;32mIn [36]\u001b[0m, in \u001b[0;36m<cell line: 1>\u001b[1;34m()\u001b[0m\n\u001b[1;32m----> 1\u001b[0m df[\u001b[38;5;124m'\u001b[39m\u001b[38;5;124multimo rend\u001b[39m\u001b[38;5;124m'\u001b[39m] \u001b[38;5;241m=\u001b[39m \u001b[43mdf\u001b[49m\u001b[43m[\u001b[49m\u001b[38;5;124;43m'\u001b[39;49m\u001b[38;5;124;43multimo rend\u001b[39;49m\u001b[38;5;124;43m'\u001b[39;49m\u001b[43m]\u001b[49m\u001b[38;5;241;43m.\u001b[39;49m\u001b[43mstr\u001b[49m\u001b[38;5;241m.\u001b[39mreplace(\u001b[38;5;124m'\u001b[39m\u001b[38;5;124mR$ \u001b[39m\u001b[38;5;124m'\u001b[39m,\u001b[38;5;124m'\u001b[39m\u001b[38;5;124m'\u001b[39m,regex\u001b[38;5;241m=\u001b[39m\u001b[38;5;28;01mFalse\u001b[39;00m)    \u001b[38;5;66;03m## substituiu caracteres e transformar float\u001b[39;00m\n\u001b[0;32m      2\u001b[0m df[\u001b[38;5;124m'\u001b[39m\u001b[38;5;124multimo rend\u001b[39m\u001b[38;5;124m'\u001b[39m] \u001b[38;5;241m=\u001b[39m df[\u001b[38;5;124m'\u001b[39m\u001b[38;5;124multimo rend\u001b[39m\u001b[38;5;124m'\u001b[39m]\u001b[38;5;241m.\u001b[39mstr\u001b[38;5;241m.\u001b[39mreplace(\u001b[38;5;124m'\u001b[39m\u001b[38;5;124m,\u001b[39m\u001b[38;5;124m'\u001b[39m,\u001b[38;5;124m'\u001b[39m\u001b[38;5;124m.\u001b[39m\u001b[38;5;124m'\u001b[39m,regex\u001b[38;5;241m=\u001b[39m\u001b[38;5;28;01mFalse\u001b[39;00m)\u001b[38;5;241m.\u001b[39mastype(\u001b[38;5;28mfloat\u001b[39m)\n",
      "File \u001b[1;32m~\\anaconda3\\lib\\site-packages\\pandas\\core\\generic.py:5575\u001b[0m, in \u001b[0;36mNDFrame.__getattr__\u001b[1;34m(self, name)\u001b[0m\n\u001b[0;32m   5568\u001b[0m \u001b[38;5;28;01mif\u001b[39;00m (\n\u001b[0;32m   5569\u001b[0m     name \u001b[38;5;129;01mnot\u001b[39;00m \u001b[38;5;129;01min\u001b[39;00m \u001b[38;5;28mself\u001b[39m\u001b[38;5;241m.\u001b[39m_internal_names_set\n\u001b[0;32m   5570\u001b[0m     \u001b[38;5;129;01mand\u001b[39;00m name \u001b[38;5;129;01mnot\u001b[39;00m \u001b[38;5;129;01min\u001b[39;00m \u001b[38;5;28mself\u001b[39m\u001b[38;5;241m.\u001b[39m_metadata\n\u001b[0;32m   5571\u001b[0m     \u001b[38;5;129;01mand\u001b[39;00m name \u001b[38;5;129;01mnot\u001b[39;00m \u001b[38;5;129;01min\u001b[39;00m \u001b[38;5;28mself\u001b[39m\u001b[38;5;241m.\u001b[39m_accessors\n\u001b[0;32m   5572\u001b[0m     \u001b[38;5;129;01mand\u001b[39;00m \u001b[38;5;28mself\u001b[39m\u001b[38;5;241m.\u001b[39m_info_axis\u001b[38;5;241m.\u001b[39m_can_hold_identifiers_and_holds_name(name)\n\u001b[0;32m   5573\u001b[0m ):\n\u001b[0;32m   5574\u001b[0m     \u001b[38;5;28;01mreturn\u001b[39;00m \u001b[38;5;28mself\u001b[39m[name]\n\u001b[1;32m-> 5575\u001b[0m \u001b[38;5;28;01mreturn\u001b[39;00m \u001b[38;5;28;43mobject\u001b[39;49m\u001b[38;5;241;43m.\u001b[39;49m\u001b[38;5;21;43m__getattribute__\u001b[39;49m\u001b[43m(\u001b[49m\u001b[38;5;28;43mself\u001b[39;49m\u001b[43m,\u001b[49m\u001b[43m \u001b[49m\u001b[43mname\u001b[49m\u001b[43m)\u001b[49m\n",
      "File \u001b[1;32m~\\anaconda3\\lib\\site-packages\\pandas\\core\\accessor.py:182\u001b[0m, in \u001b[0;36mCachedAccessor.__get__\u001b[1;34m(self, obj, cls)\u001b[0m\n\u001b[0;32m    179\u001b[0m \u001b[38;5;28;01mif\u001b[39;00m obj \u001b[38;5;129;01mis\u001b[39;00m \u001b[38;5;28;01mNone\u001b[39;00m:\n\u001b[0;32m    180\u001b[0m     \u001b[38;5;66;03m# we're accessing the attribute of the class, i.e., Dataset.geo\u001b[39;00m\n\u001b[0;32m    181\u001b[0m     \u001b[38;5;28;01mreturn\u001b[39;00m \u001b[38;5;28mself\u001b[39m\u001b[38;5;241m.\u001b[39m_accessor\n\u001b[1;32m--> 182\u001b[0m accessor_obj \u001b[38;5;241m=\u001b[39m \u001b[38;5;28;43mself\u001b[39;49m\u001b[38;5;241;43m.\u001b[39;49m\u001b[43m_accessor\u001b[49m\u001b[43m(\u001b[49m\u001b[43mobj\u001b[49m\u001b[43m)\u001b[49m\n\u001b[0;32m    183\u001b[0m \u001b[38;5;66;03m# Replace the property with the accessor object. Inspired by:\u001b[39;00m\n\u001b[0;32m    184\u001b[0m \u001b[38;5;66;03m# https://www.pydanny.com/cached-property.html\u001b[39;00m\n\u001b[0;32m    185\u001b[0m \u001b[38;5;66;03m# We need to use object.__setattr__ because we overwrite __setattr__ on\u001b[39;00m\n\u001b[0;32m    186\u001b[0m \u001b[38;5;66;03m# NDFrame\u001b[39;00m\n\u001b[0;32m    187\u001b[0m \u001b[38;5;28mobject\u001b[39m\u001b[38;5;241m.\u001b[39m\u001b[38;5;21m__setattr__\u001b[39m(obj, \u001b[38;5;28mself\u001b[39m\u001b[38;5;241m.\u001b[39m_name, accessor_obj)\n",
      "File \u001b[1;32m~\\anaconda3\\lib\\site-packages\\pandas\\core\\strings\\accessor.py:177\u001b[0m, in \u001b[0;36mStringMethods.__init__\u001b[1;34m(self, data)\u001b[0m\n\u001b[0;32m    174\u001b[0m \u001b[38;5;28;01mdef\u001b[39;00m \u001b[38;5;21m__init__\u001b[39m(\u001b[38;5;28mself\u001b[39m, data):\n\u001b[0;32m    175\u001b[0m     \u001b[38;5;28;01mfrom\u001b[39;00m \u001b[38;5;21;01mpandas\u001b[39;00m\u001b[38;5;21;01m.\u001b[39;00m\u001b[38;5;21;01mcore\u001b[39;00m\u001b[38;5;21;01m.\u001b[39;00m\u001b[38;5;21;01marrays\u001b[39;00m\u001b[38;5;21;01m.\u001b[39;00m\u001b[38;5;21;01mstring_\u001b[39;00m \u001b[38;5;28;01mimport\u001b[39;00m StringDtype\n\u001b[1;32m--> 177\u001b[0m     \u001b[38;5;28mself\u001b[39m\u001b[38;5;241m.\u001b[39m_inferred_dtype \u001b[38;5;241m=\u001b[39m \u001b[38;5;28;43mself\u001b[39;49m\u001b[38;5;241;43m.\u001b[39;49m\u001b[43m_validate\u001b[49m\u001b[43m(\u001b[49m\u001b[43mdata\u001b[49m\u001b[43m)\u001b[49m\n\u001b[0;32m    178\u001b[0m     \u001b[38;5;28mself\u001b[39m\u001b[38;5;241m.\u001b[39m_is_categorical \u001b[38;5;241m=\u001b[39m is_categorical_dtype(data\u001b[38;5;241m.\u001b[39mdtype)\n\u001b[0;32m    179\u001b[0m     \u001b[38;5;28mself\u001b[39m\u001b[38;5;241m.\u001b[39m_is_string \u001b[38;5;241m=\u001b[39m \u001b[38;5;28misinstance\u001b[39m(data\u001b[38;5;241m.\u001b[39mdtype, StringDtype)\n",
      "File \u001b[1;32m~\\anaconda3\\lib\\site-packages\\pandas\\core\\strings\\accessor.py:231\u001b[0m, in \u001b[0;36mStringMethods._validate\u001b[1;34m(data)\u001b[0m\n\u001b[0;32m    228\u001b[0m inferred_dtype \u001b[38;5;241m=\u001b[39m lib\u001b[38;5;241m.\u001b[39minfer_dtype(values, skipna\u001b[38;5;241m=\u001b[39m\u001b[38;5;28;01mTrue\u001b[39;00m)\n\u001b[0;32m    230\u001b[0m \u001b[38;5;28;01mif\u001b[39;00m inferred_dtype \u001b[38;5;129;01mnot\u001b[39;00m \u001b[38;5;129;01min\u001b[39;00m allowed_types:\n\u001b[1;32m--> 231\u001b[0m     \u001b[38;5;28;01mraise\u001b[39;00m \u001b[38;5;167;01mAttributeError\u001b[39;00m(\u001b[38;5;124m\"\u001b[39m\u001b[38;5;124mCan only use .str accessor with string values!\u001b[39m\u001b[38;5;124m\"\u001b[39m)\n\u001b[0;32m    232\u001b[0m \u001b[38;5;28;01mreturn\u001b[39;00m inferred_dtype\n",
      "\u001b[1;31mAttributeError\u001b[0m: Can only use .str accessor with string values!"
     ]
    }
   ],
   "source": [
    "df['ultimo rend'] = df['ultimo rend'].str.replace('R$ ','',regex=False)    ## substituiu caracteres e transformar float\n",
    "df['ultimo rend'] = df['ultimo rend'].str.replace(',','.',regex=False).astype(float)"
   ]
  },
  {
   "cell_type": "code",
   "execution_count": 31,
   "id": "f2abdf35",
   "metadata": {},
   "outputs": [
    {
     "data": {
      "text/plain": [
       "0       0.65\n",
       "1       1.30\n",
       "2       1.35\n",
       "3       0.60\n",
       "4       0.72\n",
       "       ...  \n",
       "348     0.45\n",
       "349     0.68\n",
       "350     0.00\n",
       "351    19.41\n",
       "352     0.79\n",
       "Name: ultimo rend, Length: 353, dtype: float64"
      ]
     },
     "execution_count": 31,
     "metadata": {},
     "output_type": "execute_result"
    }
   ],
   "source": [
    "df['ultimo rend']"
   ]
  },
  {
   "cell_type": "code",
   "execution_count": 35,
   "id": "40febd60",
   "metadata": {},
   "outputs": [
    {
     "ename": "AttributeError",
     "evalue": "Can only use .str accessor with string values!",
     "output_type": "error",
     "traceback": [
      "\u001b[1;31m---------------------------------------------------------------------------\u001b[0m",
      "\u001b[1;31mAttributeError\u001b[0m                            Traceback (most recent call last)",
      "Input \u001b[1;32mIn [35]\u001b[0m, in \u001b[0;36m<cell line: 3>\u001b[1;34m()\u001b[0m\n\u001b[0;32m      1\u001b[0m df[\u001b[38;5;124m'\u001b[39m\u001b[38;5;124mliq diaria\u001b[39m\u001b[38;5;124m'\u001b[39m] \u001b[38;5;241m=\u001b[39m df[\u001b[38;5;124m'\u001b[39m\u001b[38;5;124mliq diaria\u001b[39m\u001b[38;5;124m'\u001b[39m]\u001b[38;5;241m.\u001b[39mstr\u001b[38;5;241m.\u001b[39mreplace(\u001b[38;5;124m'\u001b[39m\u001b[38;5;124m.\u001b[39m\u001b[38;5;124m'\u001b[39m,\u001b[38;5;124m'\u001b[39m\u001b[38;5;124m'\u001b[39m,regex\u001b[38;5;241m=\u001b[39m\u001b[38;5;28;01mFalse\u001b[39;00m)\u001b[38;5;241m.\u001b[39mastype(\u001b[38;5;28mint\u001b[39m) \u001b[38;5;66;03m## substituir os pontos por vazio e tranformar em inteiro\u001b[39;00m\n\u001b[1;32m----> 3\u001b[0m df[\u001b[38;5;124m'\u001b[39m\u001b[38;5;124multimo rend\u001b[39m\u001b[38;5;124m'\u001b[39m] \u001b[38;5;241m=\u001b[39m \u001b[43mdf\u001b[49m\u001b[43m[\u001b[49m\u001b[38;5;124;43m'\u001b[39;49m\u001b[38;5;124;43multimo rend\u001b[39;49m\u001b[38;5;124;43m'\u001b[39;49m\u001b[43m]\u001b[49m\u001b[38;5;241;43m.\u001b[39;49m\u001b[43mstr\u001b[49m\u001b[38;5;241m.\u001b[39mreplace(\u001b[38;5;124m'\u001b[39m\u001b[38;5;124mR$ \u001b[39m\u001b[38;5;124m'\u001b[39m,\u001b[38;5;124m'\u001b[39m\u001b[38;5;124m'\u001b[39m,regex\u001b[38;5;241m=\u001b[39m\u001b[38;5;28;01mFalse\u001b[39;00m)    \u001b[38;5;66;03m## substituiu caracteres e transformar float\u001b[39;00m\n\u001b[0;32m      4\u001b[0m df[\u001b[38;5;124m'\u001b[39m\u001b[38;5;124multimo rend\u001b[39m\u001b[38;5;124m'\u001b[39m] \u001b[38;5;241m=\u001b[39m df[\u001b[38;5;124m'\u001b[39m\u001b[38;5;124multimo rend\u001b[39m\u001b[38;5;124m'\u001b[39m]\u001b[38;5;241m.\u001b[39mstr\u001b[38;5;241m.\u001b[39mreplace(\u001b[38;5;124m'\u001b[39m\u001b[38;5;124m,\u001b[39m\u001b[38;5;124m'\u001b[39m,\u001b[38;5;124m'\u001b[39m\u001b[38;5;124m.\u001b[39m\u001b[38;5;124m'\u001b[39m,regex\u001b[38;5;241m=\u001b[39m\u001b[38;5;28;01mFalse\u001b[39;00m)\u001b[38;5;241m.\u001b[39mastype(\u001b[38;5;28mfloat\u001b[39m)\n",
      "File \u001b[1;32m~\\anaconda3\\lib\\site-packages\\pandas\\core\\generic.py:5575\u001b[0m, in \u001b[0;36mNDFrame.__getattr__\u001b[1;34m(self, name)\u001b[0m\n\u001b[0;32m   5568\u001b[0m \u001b[38;5;28;01mif\u001b[39;00m (\n\u001b[0;32m   5569\u001b[0m     name \u001b[38;5;129;01mnot\u001b[39;00m \u001b[38;5;129;01min\u001b[39;00m \u001b[38;5;28mself\u001b[39m\u001b[38;5;241m.\u001b[39m_internal_names_set\n\u001b[0;32m   5570\u001b[0m     \u001b[38;5;129;01mand\u001b[39;00m name \u001b[38;5;129;01mnot\u001b[39;00m \u001b[38;5;129;01min\u001b[39;00m \u001b[38;5;28mself\u001b[39m\u001b[38;5;241m.\u001b[39m_metadata\n\u001b[0;32m   5571\u001b[0m     \u001b[38;5;129;01mand\u001b[39;00m name \u001b[38;5;129;01mnot\u001b[39;00m \u001b[38;5;129;01min\u001b[39;00m \u001b[38;5;28mself\u001b[39m\u001b[38;5;241m.\u001b[39m_accessors\n\u001b[0;32m   5572\u001b[0m     \u001b[38;5;129;01mand\u001b[39;00m \u001b[38;5;28mself\u001b[39m\u001b[38;5;241m.\u001b[39m_info_axis\u001b[38;5;241m.\u001b[39m_can_hold_identifiers_and_holds_name(name)\n\u001b[0;32m   5573\u001b[0m ):\n\u001b[0;32m   5574\u001b[0m     \u001b[38;5;28;01mreturn\u001b[39;00m \u001b[38;5;28mself\u001b[39m[name]\n\u001b[1;32m-> 5575\u001b[0m \u001b[38;5;28;01mreturn\u001b[39;00m \u001b[38;5;28;43mobject\u001b[39;49m\u001b[38;5;241;43m.\u001b[39;49m\u001b[38;5;21;43m__getattribute__\u001b[39;49m\u001b[43m(\u001b[49m\u001b[38;5;28;43mself\u001b[39;49m\u001b[43m,\u001b[49m\u001b[43m \u001b[49m\u001b[43mname\u001b[49m\u001b[43m)\u001b[49m\n",
      "File \u001b[1;32m~\\anaconda3\\lib\\site-packages\\pandas\\core\\accessor.py:182\u001b[0m, in \u001b[0;36mCachedAccessor.__get__\u001b[1;34m(self, obj, cls)\u001b[0m\n\u001b[0;32m    179\u001b[0m \u001b[38;5;28;01mif\u001b[39;00m obj \u001b[38;5;129;01mis\u001b[39;00m \u001b[38;5;28;01mNone\u001b[39;00m:\n\u001b[0;32m    180\u001b[0m     \u001b[38;5;66;03m# we're accessing the attribute of the class, i.e., Dataset.geo\u001b[39;00m\n\u001b[0;32m    181\u001b[0m     \u001b[38;5;28;01mreturn\u001b[39;00m \u001b[38;5;28mself\u001b[39m\u001b[38;5;241m.\u001b[39m_accessor\n\u001b[1;32m--> 182\u001b[0m accessor_obj \u001b[38;5;241m=\u001b[39m \u001b[38;5;28;43mself\u001b[39;49m\u001b[38;5;241;43m.\u001b[39;49m\u001b[43m_accessor\u001b[49m\u001b[43m(\u001b[49m\u001b[43mobj\u001b[49m\u001b[43m)\u001b[49m\n\u001b[0;32m    183\u001b[0m \u001b[38;5;66;03m# Replace the property with the accessor object. Inspired by:\u001b[39;00m\n\u001b[0;32m    184\u001b[0m \u001b[38;5;66;03m# https://www.pydanny.com/cached-property.html\u001b[39;00m\n\u001b[0;32m    185\u001b[0m \u001b[38;5;66;03m# We need to use object.__setattr__ because we overwrite __setattr__ on\u001b[39;00m\n\u001b[0;32m    186\u001b[0m \u001b[38;5;66;03m# NDFrame\u001b[39;00m\n\u001b[0;32m    187\u001b[0m \u001b[38;5;28mobject\u001b[39m\u001b[38;5;241m.\u001b[39m\u001b[38;5;21m__setattr__\u001b[39m(obj, \u001b[38;5;28mself\u001b[39m\u001b[38;5;241m.\u001b[39m_name, accessor_obj)\n",
      "File \u001b[1;32m~\\anaconda3\\lib\\site-packages\\pandas\\core\\strings\\accessor.py:177\u001b[0m, in \u001b[0;36mStringMethods.__init__\u001b[1;34m(self, data)\u001b[0m\n\u001b[0;32m    174\u001b[0m \u001b[38;5;28;01mdef\u001b[39;00m \u001b[38;5;21m__init__\u001b[39m(\u001b[38;5;28mself\u001b[39m, data):\n\u001b[0;32m    175\u001b[0m     \u001b[38;5;28;01mfrom\u001b[39;00m \u001b[38;5;21;01mpandas\u001b[39;00m\u001b[38;5;21;01m.\u001b[39;00m\u001b[38;5;21;01mcore\u001b[39;00m\u001b[38;5;21;01m.\u001b[39;00m\u001b[38;5;21;01marrays\u001b[39;00m\u001b[38;5;21;01m.\u001b[39;00m\u001b[38;5;21;01mstring_\u001b[39;00m \u001b[38;5;28;01mimport\u001b[39;00m StringDtype\n\u001b[1;32m--> 177\u001b[0m     \u001b[38;5;28mself\u001b[39m\u001b[38;5;241m.\u001b[39m_inferred_dtype \u001b[38;5;241m=\u001b[39m \u001b[38;5;28;43mself\u001b[39;49m\u001b[38;5;241;43m.\u001b[39;49m\u001b[43m_validate\u001b[49m\u001b[43m(\u001b[49m\u001b[43mdata\u001b[49m\u001b[43m)\u001b[49m\n\u001b[0;32m    178\u001b[0m     \u001b[38;5;28mself\u001b[39m\u001b[38;5;241m.\u001b[39m_is_categorical \u001b[38;5;241m=\u001b[39m is_categorical_dtype(data\u001b[38;5;241m.\u001b[39mdtype)\n\u001b[0;32m    179\u001b[0m     \u001b[38;5;28mself\u001b[39m\u001b[38;5;241m.\u001b[39m_is_string \u001b[38;5;241m=\u001b[39m \u001b[38;5;28misinstance\u001b[39m(data\u001b[38;5;241m.\u001b[39mdtype, StringDtype)\n",
      "File \u001b[1;32m~\\anaconda3\\lib\\site-packages\\pandas\\core\\strings\\accessor.py:231\u001b[0m, in \u001b[0;36mStringMethods._validate\u001b[1;34m(data)\u001b[0m\n\u001b[0;32m    228\u001b[0m inferred_dtype \u001b[38;5;241m=\u001b[39m lib\u001b[38;5;241m.\u001b[39minfer_dtype(values, skipna\u001b[38;5;241m=\u001b[39m\u001b[38;5;28;01mTrue\u001b[39;00m)\n\u001b[0;32m    230\u001b[0m \u001b[38;5;28;01mif\u001b[39;00m inferred_dtype \u001b[38;5;129;01mnot\u001b[39;00m \u001b[38;5;129;01min\u001b[39;00m allowed_types:\n\u001b[1;32m--> 231\u001b[0m     \u001b[38;5;28;01mraise\u001b[39;00m \u001b[38;5;167;01mAttributeError\u001b[39;00m(\u001b[38;5;124m\"\u001b[39m\u001b[38;5;124mCan only use .str accessor with string values!\u001b[39m\u001b[38;5;124m\"\u001b[39m)\n\u001b[0;32m    232\u001b[0m \u001b[38;5;28;01mreturn\u001b[39;00m inferred_dtype\n",
      "\u001b[1;31mAttributeError\u001b[0m: Can only use .str accessor with string values!"
     ]
    }
   ],
   "source": [
    "df['liq diaria'] = df['liq diaria'].str.replace('.','',regex=False).astype(int) ## substituir os pontos por vazio e tranformar em inteiro\n",
    "\n",
    "df['ultimo rend'] = df['ultimo rend'].str.replace('R$ ','',regex=False)    ## substituiu caracteres e transformar float\n",
    "df['ultimo rend'] = df['ultimo rend'].str.replace(',','.',regex=False).astype(float)"
   ]
  },
  {
   "cell_type": "code",
   "execution_count": 63,
   "id": "b7a96fcc",
   "metadata": {},
   "outputs": [
    {
     "data": {
      "text/plain": [
       "0      0.0088\n",
       "1      0.0125\n",
       "2      0.0136\n",
       "3      0.0128\n",
       "4      0.0090\n",
       "        ...  \n",
       "348    0.0077\n",
       "349    0.0093\n",
       "350    0.0000\n",
       "351    0.0194\n",
       "352    0.0000\n",
       "Name: yield, Length: 353, dtype: float64"
      ]
     },
     "execution_count": 63,
     "metadata": {},
     "output_type": "execute_result"
    }
   ],
   "source": [
    "df['yield'] = df['yield'].str.replace(',','.',regex=False)\n",
    "df['yield'].str.replace('%','',regex=False).astype(float)/100"
   ]
  },
  {
   "cell_type": "code",
   "execution_count": 40,
   "id": "eefb586a",
   "metadata": {},
   "outputs": [
    {
     "data": {
      "text/html": [
       "<div>\n",
       "<style scoped>\n",
       "    .dataframe tbody tr th:only-of-type {\n",
       "        vertical-align: middle;\n",
       "    }\n",
       "\n",
       "    .dataframe tbody tr th {\n",
       "        vertical-align: top;\n",
       "    }\n",
       "\n",
       "    .dataframe thead th {\n",
       "        text-align: right;\n",
       "    }\n",
       "</style>\n",
       "<table border=\"1\" class=\"dataframe\">\n",
       "  <thead>\n",
       "    <tr style=\"text-align: right;\">\n",
       "      <th></th>\n",
       "      <th>nome_fii</th>\n",
       "      <th>liq diaria</th>\n",
       "      <th>ultimo rend</th>\n",
       "      <th>yield</th>\n",
       "      <th>patrim liquido</th>\n",
       "      <th>valor patrim</th>\n",
       "      <th>rent mes</th>\n",
       "      <th>p/vp</th>\n",
       "    </tr>\n",
       "  </thead>\n",
       "  <tbody>\n",
       "    <tr>\n",
       "      <th>0</th>\n",
       "      <td>ABCP11</td>\n",
       "      <td>1721</td>\n",
       "      <td>0.65</td>\n",
       "      <td>0.88%</td>\n",
       "      <td>R$ 1,1 bi</td>\n",
       "      <td>R$ 91,83</td>\n",
       "      <td>-0,60%</td>\n",
       "      <td>0,79</td>\n",
       "    </tr>\n",
       "    <tr>\n",
       "      <th>1</th>\n",
       "      <td>AFCR11</td>\n",
       "      <td>957</td>\n",
       "      <td>1.30</td>\n",
       "      <td>1.25%</td>\n",
       "      <td>R$ 154,9 mi</td>\n",
       "      <td>R$ 102,29</td>\n",
       "      <td>1,05%</td>\n",
       "      <td>1,01</td>\n",
       "    </tr>\n",
       "    <tr>\n",
       "      <th>2</th>\n",
       "      <td>AFHI11</td>\n",
       "      <td>28440</td>\n",
       "      <td>1.35</td>\n",
       "      <td>1.36%</td>\n",
       "      <td>R$ 173,8 mi</td>\n",
       "      <td>R$ 97,24</td>\n",
       "      <td>-2,21%</td>\n",
       "      <td>1,10</td>\n",
       "    </tr>\n",
       "    <tr>\n",
       "      <th>3</th>\n",
       "      <td>AFOF11</td>\n",
       "      <td>1863</td>\n",
       "      <td>0.60</td>\n",
       "      <td>1.28%</td>\n",
       "      <td>R$ 70,7 mi</td>\n",
       "      <td>R$ 102,32</td>\n",
       "      <td>-4,13%</td>\n",
       "      <td>0,87</td>\n",
       "    </tr>\n",
       "    <tr>\n",
       "      <th>4</th>\n",
       "      <td>AIEC11</td>\n",
       "      <td>1639</td>\n",
       "      <td>0.72</td>\n",
       "      <td>0.90%</td>\n",
       "      <td>R$ 488,5 mi</td>\n",
       "      <td>R$ 101,24</td>\n",
       "      <td>-3,08%</td>\n",
       "      <td>0,79</td>\n",
       "    </tr>\n",
       "  </tbody>\n",
       "</table>\n",
       "</div>"
      ],
      "text/plain": [
       "  nome_fii  liq diaria  ultimo rend  yield patrim liquido valor patrim  \\\n",
       "0   ABCP11        1721         0.65  0.88%      R$ 1,1 bi     R$ 91,83   \n",
       "1   AFCR11         957         1.30  1.25%    R$ 154,9 mi    R$ 102,29   \n",
       "2   AFHI11       28440         1.35  1.36%    R$ 173,8 mi     R$ 97,24   \n",
       "3   AFOF11        1863         0.60  1.28%     R$ 70,7 mi    R$ 102,32   \n",
       "4   AIEC11        1639         0.72  0.90%    R$ 488,5 mi    R$ 101,24   \n",
       "\n",
       "  rent mes  p/vp  \n",
       "0   -0,60%  0,79  \n",
       "1    1,05%  1,01  \n",
       "2   -2,21%  1,10  \n",
       "3   -4,13%  0,87  \n",
       "4   -3,08%  0,79  "
      ]
     },
     "execution_count": 40,
     "metadata": {},
     "output_type": "execute_result"
    }
   ],
   "source": [
    "df.head()"
   ]
  },
  {
   "cell_type": "code",
   "execution_count": 47,
   "id": "435591a2",
   "metadata": {
    "scrolled": true
   },
   "outputs": [
    {
     "data": {
      "text/plain": [
       "0      bi\n",
       "1      mi\n",
       "2      mi\n",
       "3      mi\n",
       "4      mi\n",
       "       ..\n",
       "348    mi\n",
       "349    mi\n",
       "350    mi\n",
       "351    mi\n",
       "352    mi\n",
       "Name: patrim liquido, Length: 353, dtype: object"
      ]
     },
     "execution_count": 47,
     "metadata": {},
     "output_type": "execute_result"
    }
   ],
   "source": [
    "df['patrim liquido'].apply(lambda x: x.split(' ')[-1])"
   ]
  },
  {
   "cell_type": "code",
   "execution_count": 48,
   "id": "9aa14fe1",
   "metadata": {},
   "outputs": [
    {
     "data": {
      "text/html": [
       "<div>\n",
       "<style scoped>\n",
       "    .dataframe tbody tr th:only-of-type {\n",
       "        vertical-align: middle;\n",
       "    }\n",
       "\n",
       "    .dataframe tbody tr th {\n",
       "        vertical-align: top;\n",
       "    }\n",
       "\n",
       "    .dataframe thead th {\n",
       "        text-align: right;\n",
       "    }\n",
       "</style>\n",
       "<table border=\"1\" class=\"dataframe\">\n",
       "  <thead>\n",
       "    <tr style=\"text-align: right;\">\n",
       "      <th></th>\n",
       "      <th>nome_fii</th>\n",
       "      <th>liq diaria</th>\n",
       "      <th>ultimo rend</th>\n",
       "      <th>yield</th>\n",
       "      <th>patrim liquido</th>\n",
       "      <th>valor patrim</th>\n",
       "      <th>rent mes</th>\n",
       "      <th>p/vp</th>\n",
       "    </tr>\n",
       "  </thead>\n",
       "  <tbody>\n",
       "    <tr>\n",
       "      <th>79</th>\n",
       "      <td>DMAC11</td>\n",
       "      <td>2543</td>\n",
       "      <td>2.96</td>\n",
       "      <td>36.32%</td>\n",
       "      <td>R$ 778.257,9</td>\n",
       "      <td>R$ 4,99</td>\n",
       "      <td>4,85%</td>\n",
       "      <td>2,61</td>\n",
       "    </tr>\n",
       "  </tbody>\n",
       "</table>\n",
       "</div>"
      ],
      "text/plain": [
       "   nome_fii  liq diaria  ultimo rend   yield patrim liquido valor patrim  \\\n",
       "79   DMAC11        2543         2.96  36.32%   R$ 778.257,9      R$ 4,99   \n",
       "\n",
       "   rent mes  p/vp  \n",
       "79    4,85%  2,61  "
      ]
     },
     "execution_count": 48,
     "metadata": {},
     "output_type": "execute_result"
    }
   ],
   "source": [
    "df[df['patrim liquido'].str.contains('778.257,9')]"
   ]
  },
  {
   "cell_type": "code",
   "execution_count": 56,
   "id": "1c79d2a4",
   "metadata": {},
   "outputs": [
    {
     "data": {
      "text/plain": [
       "778257.9"
      ]
     },
     "execution_count": 56,
     "metadata": {},
     "output_type": "execute_result"
    }
   ],
   "source": [
    "def trata_patr_liq(x):\n",
    "    x = x.replace('R$ ','')\n",
    "    x = x.replace('.','')\n",
    "    x = x.replace(',','.')\n",
    "    x = x.split(' ')\n",
    "    \n",
    "    if x[-1] == 'mi':\n",
    "        x = float(x[0])*10**6\n",
    "        \n",
    "    elif x[-1] == 'bi':\n",
    "        x = float(x[0])*10**9\n",
    "        \n",
    "\n",
    "    if type(x) == type(list()):\n",
    "        x = float(x[0])\n",
    "        \n",
    "    return x\n",
    "\n",
    "trata_patr_liq(x = 'R$ 778.257,9')"
   ]
  },
  {
   "cell_type": "code",
   "execution_count": 57,
   "id": "6c9897ac",
   "metadata": {},
   "outputs": [
    {
     "ename": "AttributeError",
     "evalue": "'float' object has no attribute 'replace'",
     "output_type": "error",
     "traceback": [
      "\u001b[1;31m---------------------------------------------------------------------------\u001b[0m",
      "\u001b[1;31mAttributeError\u001b[0m                            Traceback (most recent call last)",
      "Input \u001b[1;32mIn [57]\u001b[0m, in \u001b[0;36m<cell line: 1>\u001b[1;34m()\u001b[0m\n\u001b[1;32m----> 1\u001b[0m df[\u001b[38;5;124m'\u001b[39m\u001b[38;5;124mpatrim liquido\u001b[39m\u001b[38;5;124m'\u001b[39m] \u001b[38;5;241m=\u001b[39m \u001b[43mdf\u001b[49m\u001b[43m[\u001b[49m\u001b[38;5;124;43m'\u001b[39;49m\u001b[38;5;124;43mpatrim liquido\u001b[39;49m\u001b[38;5;124;43m'\u001b[39;49m\u001b[43m]\u001b[49m\u001b[38;5;241;43m.\u001b[39;49m\u001b[43mapply\u001b[49m\u001b[43m(\u001b[49m\u001b[38;5;28;43;01mlambda\u001b[39;49;00m\u001b[43m \u001b[49m\u001b[43mx\u001b[49m\u001b[43m:\u001b[49m\u001b[43m \u001b[49m\u001b[43mtrata_patr_liq\u001b[49m\u001b[43m(\u001b[49m\u001b[43mx\u001b[49m\u001b[43m)\u001b[49m\u001b[43m)\u001b[49m\n",
      "File \u001b[1;32m~\\anaconda3\\lib\\site-packages\\pandas\\core\\series.py:4433\u001b[0m, in \u001b[0;36mSeries.apply\u001b[1;34m(self, func, convert_dtype, args, **kwargs)\u001b[0m\n\u001b[0;32m   4323\u001b[0m \u001b[38;5;28;01mdef\u001b[39;00m \u001b[38;5;21mapply\u001b[39m(\n\u001b[0;32m   4324\u001b[0m     \u001b[38;5;28mself\u001b[39m,\n\u001b[0;32m   4325\u001b[0m     func: AggFuncType,\n\u001b[1;32m   (...)\u001b[0m\n\u001b[0;32m   4328\u001b[0m     \u001b[38;5;241m*\u001b[39m\u001b[38;5;241m*\u001b[39mkwargs,\n\u001b[0;32m   4329\u001b[0m ) \u001b[38;5;241m-\u001b[39m\u001b[38;5;241m>\u001b[39m DataFrame \u001b[38;5;241m|\u001b[39m Series:\n\u001b[0;32m   4330\u001b[0m     \u001b[38;5;124;03m\"\"\"\u001b[39;00m\n\u001b[0;32m   4331\u001b[0m \u001b[38;5;124;03m    Invoke function on values of Series.\u001b[39;00m\n\u001b[0;32m   4332\u001b[0m \n\u001b[1;32m   (...)\u001b[0m\n\u001b[0;32m   4431\u001b[0m \u001b[38;5;124;03m    dtype: float64\u001b[39;00m\n\u001b[0;32m   4432\u001b[0m \u001b[38;5;124;03m    \"\"\"\u001b[39;00m\n\u001b[1;32m-> 4433\u001b[0m     \u001b[38;5;28;01mreturn\u001b[39;00m \u001b[43mSeriesApply\u001b[49m\u001b[43m(\u001b[49m\u001b[38;5;28;43mself\u001b[39;49m\u001b[43m,\u001b[49m\u001b[43m \u001b[49m\u001b[43mfunc\u001b[49m\u001b[43m,\u001b[49m\u001b[43m \u001b[49m\u001b[43mconvert_dtype\u001b[49m\u001b[43m,\u001b[49m\u001b[43m \u001b[49m\u001b[43margs\u001b[49m\u001b[43m,\u001b[49m\u001b[43m \u001b[49m\u001b[43mkwargs\u001b[49m\u001b[43m)\u001b[49m\u001b[38;5;241;43m.\u001b[39;49m\u001b[43mapply\u001b[49m\u001b[43m(\u001b[49m\u001b[43m)\u001b[49m\n",
      "File \u001b[1;32m~\\anaconda3\\lib\\site-packages\\pandas\\core\\apply.py:1082\u001b[0m, in \u001b[0;36mSeriesApply.apply\u001b[1;34m(self)\u001b[0m\n\u001b[0;32m   1078\u001b[0m \u001b[38;5;28;01mif\u001b[39;00m \u001b[38;5;28misinstance\u001b[39m(\u001b[38;5;28mself\u001b[39m\u001b[38;5;241m.\u001b[39mf, \u001b[38;5;28mstr\u001b[39m):\n\u001b[0;32m   1079\u001b[0m     \u001b[38;5;66;03m# if we are a string, try to dispatch\u001b[39;00m\n\u001b[0;32m   1080\u001b[0m     \u001b[38;5;28;01mreturn\u001b[39;00m \u001b[38;5;28mself\u001b[39m\u001b[38;5;241m.\u001b[39mapply_str()\n\u001b[1;32m-> 1082\u001b[0m \u001b[38;5;28;01mreturn\u001b[39;00m \u001b[38;5;28;43mself\u001b[39;49m\u001b[38;5;241;43m.\u001b[39;49m\u001b[43mapply_standard\u001b[49m\u001b[43m(\u001b[49m\u001b[43m)\u001b[49m\n",
      "File \u001b[1;32m~\\anaconda3\\lib\\site-packages\\pandas\\core\\apply.py:1137\u001b[0m, in \u001b[0;36mSeriesApply.apply_standard\u001b[1;34m(self)\u001b[0m\n\u001b[0;32m   1131\u001b[0m         values \u001b[38;5;241m=\u001b[39m obj\u001b[38;5;241m.\u001b[39mastype(\u001b[38;5;28mobject\u001b[39m)\u001b[38;5;241m.\u001b[39m_values\n\u001b[0;32m   1132\u001b[0m         \u001b[38;5;66;03m# error: Argument 2 to \"map_infer\" has incompatible type\u001b[39;00m\n\u001b[0;32m   1133\u001b[0m         \u001b[38;5;66;03m# \"Union[Callable[..., Any], str, List[Union[Callable[..., Any], str]],\u001b[39;00m\n\u001b[0;32m   1134\u001b[0m         \u001b[38;5;66;03m# Dict[Hashable, Union[Union[Callable[..., Any], str],\u001b[39;00m\n\u001b[0;32m   1135\u001b[0m         \u001b[38;5;66;03m# List[Union[Callable[..., Any], str]]]]]\"; expected\u001b[39;00m\n\u001b[0;32m   1136\u001b[0m         \u001b[38;5;66;03m# \"Callable[[Any], Any]\"\u001b[39;00m\n\u001b[1;32m-> 1137\u001b[0m         mapped \u001b[38;5;241m=\u001b[39m \u001b[43mlib\u001b[49m\u001b[38;5;241;43m.\u001b[39;49m\u001b[43mmap_infer\u001b[49m\u001b[43m(\u001b[49m\n\u001b[0;32m   1138\u001b[0m \u001b[43m            \u001b[49m\u001b[43mvalues\u001b[49m\u001b[43m,\u001b[49m\n\u001b[0;32m   1139\u001b[0m \u001b[43m            \u001b[49m\u001b[43mf\u001b[49m\u001b[43m,\u001b[49m\u001b[43m  \u001b[49m\u001b[38;5;66;43;03m# type: ignore[arg-type]\u001b[39;49;00m\n\u001b[0;32m   1140\u001b[0m \u001b[43m            \u001b[49m\u001b[43mconvert\u001b[49m\u001b[38;5;241;43m=\u001b[39;49m\u001b[38;5;28;43mself\u001b[39;49m\u001b[38;5;241;43m.\u001b[39;49m\u001b[43mconvert_dtype\u001b[49m\u001b[43m,\u001b[49m\n\u001b[0;32m   1141\u001b[0m \u001b[43m        \u001b[49m\u001b[43m)\u001b[49m\n\u001b[0;32m   1143\u001b[0m \u001b[38;5;28;01mif\u001b[39;00m \u001b[38;5;28mlen\u001b[39m(mapped) \u001b[38;5;129;01mand\u001b[39;00m \u001b[38;5;28misinstance\u001b[39m(mapped[\u001b[38;5;241m0\u001b[39m], ABCSeries):\n\u001b[0;32m   1144\u001b[0m     \u001b[38;5;66;03m# GH#43986 Need to do list(mapped) in order to get treated as nested\u001b[39;00m\n\u001b[0;32m   1145\u001b[0m     \u001b[38;5;66;03m#  See also GH#25959 regarding EA support\u001b[39;00m\n\u001b[0;32m   1146\u001b[0m     \u001b[38;5;28;01mreturn\u001b[39;00m obj\u001b[38;5;241m.\u001b[39m_constructor_expanddim(\u001b[38;5;28mlist\u001b[39m(mapped), index\u001b[38;5;241m=\u001b[39mobj\u001b[38;5;241m.\u001b[39mindex)\n",
      "File \u001b[1;32m~\\anaconda3\\lib\\site-packages\\pandas\\_libs\\lib.pyx:2870\u001b[0m, in \u001b[0;36mpandas._libs.lib.map_infer\u001b[1;34m()\u001b[0m\n",
      "Input \u001b[1;32mIn [57]\u001b[0m, in \u001b[0;36m<lambda>\u001b[1;34m(x)\u001b[0m\n\u001b[1;32m----> 1\u001b[0m df[\u001b[38;5;124m'\u001b[39m\u001b[38;5;124mpatrim liquido\u001b[39m\u001b[38;5;124m'\u001b[39m] \u001b[38;5;241m=\u001b[39m df[\u001b[38;5;124m'\u001b[39m\u001b[38;5;124mpatrim liquido\u001b[39m\u001b[38;5;124m'\u001b[39m]\u001b[38;5;241m.\u001b[39mapply(\u001b[38;5;28;01mlambda\u001b[39;00m x: \u001b[43mtrata_patr_liq\u001b[49m\u001b[43m(\u001b[49m\u001b[43mx\u001b[49m\u001b[43m)\u001b[49m)\n",
      "Input \u001b[1;32mIn [56]\u001b[0m, in \u001b[0;36mtrata_patr_liq\u001b[1;34m(x)\u001b[0m\n\u001b[0;32m      1\u001b[0m \u001b[38;5;28;01mdef\u001b[39;00m \u001b[38;5;21mtrata_patr_liq\u001b[39m(x):\n\u001b[1;32m----> 2\u001b[0m     x \u001b[38;5;241m=\u001b[39m \u001b[43mx\u001b[49m\u001b[38;5;241;43m.\u001b[39;49m\u001b[43mreplace\u001b[49m(\u001b[38;5;124m'\u001b[39m\u001b[38;5;124mR$ \u001b[39m\u001b[38;5;124m'\u001b[39m,\u001b[38;5;124m'\u001b[39m\u001b[38;5;124m'\u001b[39m)\n\u001b[0;32m      3\u001b[0m     x \u001b[38;5;241m=\u001b[39m x\u001b[38;5;241m.\u001b[39mreplace(\u001b[38;5;124m'\u001b[39m\u001b[38;5;124m.\u001b[39m\u001b[38;5;124m'\u001b[39m,\u001b[38;5;124m'\u001b[39m\u001b[38;5;124m'\u001b[39m)\n\u001b[0;32m      4\u001b[0m     x \u001b[38;5;241m=\u001b[39m x\u001b[38;5;241m.\u001b[39mreplace(\u001b[38;5;124m'\u001b[39m\u001b[38;5;124m,\u001b[39m\u001b[38;5;124m'\u001b[39m,\u001b[38;5;124m'\u001b[39m\u001b[38;5;124m.\u001b[39m\u001b[38;5;124m'\u001b[39m)\n",
      "\u001b[1;31mAttributeError\u001b[0m: 'float' object has no attribute 'replace'"
     ]
    }
   ],
   "source": [
    "df['patrim liquido'] = df['patrim liquido'].apply(lambda x: trata_patr_liq(x))"
   ]
  },
  {
   "cell_type": "code",
   "execution_count": 58,
   "id": "f2874b88",
   "metadata": {},
   "outputs": [
    {
     "data": {
      "text/plain": [
       "0      1.100000e+09\n",
       "1      1.549000e+08\n",
       "2      1.738000e+08\n",
       "3      7.070000e+07\n",
       "4      4.885000e+08\n",
       "           ...     \n",
       "348    5.742000e+08\n",
       "349    3.788000e+08\n",
       "350    2.730000e+07\n",
       "351    2.310000e+07\n",
       "352    4.120000e+07\n",
       "Name: patrim liquido, Length: 353, dtype: float64"
      ]
     },
     "execution_count": 58,
     "metadata": {},
     "output_type": "execute_result"
    }
   ],
   "source": [
    "df['patrim liquido']"
   ]
  },
  {
   "cell_type": "code",
   "execution_count": 59,
   "id": "26645b33",
   "metadata": {},
   "outputs": [],
   "source": [
    "df['valor patrim'] = df['valor patrim'].str.replace('R$ ','',regex=False)\n",
    "df['valor patrim'] = df['valor patrim'].str.replace('.','',regex=False)\n",
    "df['valor patrim'] = df['valor patrim'].str.replace(',','.',regex=False).astype(float)"
   ]
  },
  {
   "cell_type": "code",
   "execution_count": 60,
   "id": "a5a12347",
   "metadata": {},
   "outputs": [],
   "source": [
    "df['rent mes'] = df['rent mes'].str.replace('%','',regex=False)\n",
    "df['rent mes'] = df['rent mes'].str.replace(',','.',regex=False).astype(float)/100 ## porcentagem dividir por 100"
   ]
  },
  {
   "cell_type": "code",
   "execution_count": 61,
   "id": "ab5c199b",
   "metadata": {},
   "outputs": [],
   "source": [
    "df['p/vp'] = df['p/vp'].str.replace(',','.',regex=False).astype(float)"
   ]
  },
  {
   "cell_type": "code",
   "execution_count": 66,
   "id": "4ed4570e",
   "metadata": {},
   "outputs": [],
   "source": [
    "df['yield'] = df['yield'].str.replace(',','.',regex=False)\n",
    "df['yield'] = df['yield'].str.replace('%','',regex=False).astype(float)/100"
   ]
  },
  {
   "cell_type": "code",
   "execution_count": 67,
   "id": "b87c9eba",
   "metadata": {
    "scrolled": true
   },
   "outputs": [
    {
     "data": {
      "text/html": [
       "<div>\n",
       "<style scoped>\n",
       "    .dataframe tbody tr th:only-of-type {\n",
       "        vertical-align: middle;\n",
       "    }\n",
       "\n",
       "    .dataframe tbody tr th {\n",
       "        vertical-align: top;\n",
       "    }\n",
       "\n",
       "    .dataframe thead th {\n",
       "        text-align: right;\n",
       "    }\n",
       "</style>\n",
       "<table border=\"1\" class=\"dataframe\">\n",
       "  <thead>\n",
       "    <tr style=\"text-align: right;\">\n",
       "      <th></th>\n",
       "      <th>nome_fii</th>\n",
       "      <th>liq diaria</th>\n",
       "      <th>ultimo rend</th>\n",
       "      <th>yield</th>\n",
       "      <th>patrim liquido</th>\n",
       "      <th>valor patrim</th>\n",
       "      <th>rent mes</th>\n",
       "      <th>p/vp</th>\n",
       "    </tr>\n",
       "  </thead>\n",
       "  <tbody>\n",
       "    <tr>\n",
       "      <th>0</th>\n",
       "      <td>ABCP11</td>\n",
       "      <td>1721</td>\n",
       "      <td>0.65</td>\n",
       "      <td>0.0088</td>\n",
       "      <td>1.100000e+09</td>\n",
       "      <td>91.83</td>\n",
       "      <td>-0.0060</td>\n",
       "      <td>0.79</td>\n",
       "    </tr>\n",
       "    <tr>\n",
       "      <th>1</th>\n",
       "      <td>AFCR11</td>\n",
       "      <td>957</td>\n",
       "      <td>1.30</td>\n",
       "      <td>0.0125</td>\n",
       "      <td>1.549000e+08</td>\n",
       "      <td>102.29</td>\n",
       "      <td>0.0105</td>\n",
       "      <td>1.01</td>\n",
       "    </tr>\n",
       "    <tr>\n",
       "      <th>2</th>\n",
       "      <td>AFHI11</td>\n",
       "      <td>28440</td>\n",
       "      <td>1.35</td>\n",
       "      <td>0.0136</td>\n",
       "      <td>1.738000e+08</td>\n",
       "      <td>97.24</td>\n",
       "      <td>-0.0221</td>\n",
       "      <td>1.10</td>\n",
       "    </tr>\n",
       "    <tr>\n",
       "      <th>3</th>\n",
       "      <td>AFOF11</td>\n",
       "      <td>1863</td>\n",
       "      <td>0.60</td>\n",
       "      <td>0.0128</td>\n",
       "      <td>7.070000e+07</td>\n",
       "      <td>102.32</td>\n",
       "      <td>-0.0413</td>\n",
       "      <td>0.87</td>\n",
       "    </tr>\n",
       "    <tr>\n",
       "      <th>4</th>\n",
       "      <td>AIEC11</td>\n",
       "      <td>1639</td>\n",
       "      <td>0.72</td>\n",
       "      <td>0.0090</td>\n",
       "      <td>4.885000e+08</td>\n",
       "      <td>101.24</td>\n",
       "      <td>-0.0308</td>\n",
       "      <td>0.79</td>\n",
       "    </tr>\n",
       "  </tbody>\n",
       "</table>\n",
       "</div>"
      ],
      "text/plain": [
       "  nome_fii  liq diaria  ultimo rend   yield  patrim liquido  valor patrim  \\\n",
       "0   ABCP11        1721         0.65  0.0088    1.100000e+09         91.83   \n",
       "1   AFCR11         957         1.30  0.0125    1.549000e+08        102.29   \n",
       "2   AFHI11       28440         1.35  0.0136    1.738000e+08         97.24   \n",
       "3   AFOF11        1863         0.60  0.0128    7.070000e+07        102.32   \n",
       "4   AIEC11        1639         0.72  0.0090    4.885000e+08        101.24   \n",
       "\n",
       "   rent mes  p/vp  \n",
       "0   -0.0060  0.79  \n",
       "1    0.0105  1.01  \n",
       "2   -0.0221  1.10  \n",
       "3   -0.0413  0.87  \n",
       "4   -0.0308  0.79  "
      ]
     },
     "execution_count": 67,
     "metadata": {},
     "output_type": "execute_result"
    }
   ],
   "source": [
    "df.head()"
   ]
  },
  {
   "cell_type": "code",
   "execution_count": 68,
   "id": "e504906c",
   "metadata": {},
   "outputs": [],
   "source": [
    "df.to_csv('data_fii.csv', sep=';', decimal=',', index=False)  ## salvar como csv ideal para abrir no exel e coloca decimal ',' ajuda ao abrir no exel"
   ]
  },
  {
   "cell_type": "code",
   "execution_count": null,
   "id": "dbdd46a6",
   "metadata": {},
   "outputs": [],
   "source": []
  }
 ],
 "metadata": {
  "kernelspec": {
   "display_name": "Python 3 (ipykernel)",
   "language": "python",
   "name": "python3"
  },
  "language_info": {
   "codemirror_mode": {
    "name": "ipython",
    "version": 3
   },
   "file_extension": ".py",
   "mimetype": "text/x-python",
   "name": "python",
   "nbconvert_exporter": "python",
   "pygments_lexer": "ipython3",
   "version": "3.9.12"
  }
 },
 "nbformat": 4,
 "nbformat_minor": 5
}
