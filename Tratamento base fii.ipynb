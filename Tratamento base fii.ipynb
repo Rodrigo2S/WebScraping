{
 "cells": [
  {
   "cell_type": "code",
   "execution_count": 1,
   "id": "7b30284e",
   "metadata": {},
   "outputs": [],
   "source": [
    "import numpy as np\n",
    "import pandas as pd\n"
   ]
  },
  {
   "cell_type": "code",
   "execution_count": 2,
   "id": "71627037",
   "metadata": {},
   "outputs": [
    {
     "data": {
      "text/plain": [
       "(353, 8)"
      ]
     },
     "execution_count": 2,
     "metadata": {},
     "output_type": "execute_result"
    }
   ],
   "source": [
    "df = pd.read_csv('data_fii_raw.csv', sep=';', decimal= '.')\n",
    "df.shape"
   ]
  },
  {
   "cell_type": "code",
   "execution_count": 3,
   "id": "78272d78",
   "metadata": {},
   "outputs": [
    {
     "data": {
      "text/html": [
       "<div>\n",
       "<style scoped>\n",
       "    .dataframe tbody tr th:only-of-type {\n",
       "        vertical-align: middle;\n",
       "    }\n",
       "\n",
       "    .dataframe tbody tr th {\n",
       "        vertical-align: top;\n",
       "    }\n",
       "\n",
       "    .dataframe thead th {\n",
       "        text-align: right;\n",
       "    }\n",
       "</style>\n",
       "<table border=\"1\" class=\"dataframe\">\n",
       "  <thead>\n",
       "    <tr style=\"text-align: right;\">\n",
       "      <th></th>\n",
       "      <th>nome_fii</th>\n",
       "      <th>liq diaria</th>\n",
       "      <th>ultimo rend</th>\n",
       "      <th>yield</th>\n",
       "      <th>patrim liquido</th>\n",
       "      <th>valor patrim</th>\n",
       "      <th>rent mes</th>\n",
       "      <th>p/vp</th>\n",
       "    </tr>\n",
       "  </thead>\n",
       "  <tbody>\n",
       "    <tr>\n",
       "      <th>0</th>\n",
       "      <td>ABCP11</td>\n",
       "      <td>1.721</td>\n",
       "      <td>R$ 0,65</td>\n",
       "      <td>0,88%</td>\n",
       "      <td>R$ 1,1 bi</td>\n",
       "      <td>R$ 91,83</td>\n",
       "      <td>-0,60%</td>\n",
       "      <td>0,79</td>\n",
       "    </tr>\n",
       "    <tr>\n",
       "      <th>1</th>\n",
       "      <td>AFCR11</td>\n",
       "      <td>957</td>\n",
       "      <td>R$ 1,30</td>\n",
       "      <td>1,25%</td>\n",
       "      <td>R$ 154,9 mi</td>\n",
       "      <td>R$ 102,29</td>\n",
       "      <td>1,05%</td>\n",
       "      <td>1,01</td>\n",
       "    </tr>\n",
       "    <tr>\n",
       "      <th>2</th>\n",
       "      <td>AFHI11</td>\n",
       "      <td>28.440</td>\n",
       "      <td>R$ 1,35</td>\n",
       "      <td>1,36%</td>\n",
       "      <td>R$ 173,8 mi</td>\n",
       "      <td>R$ 97,24</td>\n",
       "      <td>-2,21%</td>\n",
       "      <td>1,10</td>\n",
       "    </tr>\n",
       "    <tr>\n",
       "      <th>3</th>\n",
       "      <td>AFOF11</td>\n",
       "      <td>1.863</td>\n",
       "      <td>R$ 0,60</td>\n",
       "      <td>1,28%</td>\n",
       "      <td>R$ 70,7 mi</td>\n",
       "      <td>R$ 102,32</td>\n",
       "      <td>-4,13%</td>\n",
       "      <td>0,87</td>\n",
       "    </tr>\n",
       "    <tr>\n",
       "      <th>4</th>\n",
       "      <td>AIEC11</td>\n",
       "      <td>1.639</td>\n",
       "      <td>R$ 0,72</td>\n",
       "      <td>0,90%</td>\n",
       "      <td>R$ 488,5 mi</td>\n",
       "      <td>R$ 101,24</td>\n",
       "      <td>-3,08%</td>\n",
       "      <td>0,79</td>\n",
       "    </tr>\n",
       "  </tbody>\n",
       "</table>\n",
       "</div>"
      ],
      "text/plain": [
       "  nome_fii liq diaria ultimo rend  yield patrim liquido valor patrim rent mes  \\\n",
       "0   ABCP11      1.721     R$ 0,65  0,88%      R$ 1,1 bi     R$ 91,83   -0,60%   \n",
       "1   AFCR11        957     R$ 1,30  1,25%    R$ 154,9 mi    R$ 102,29    1,05%   \n",
       "2   AFHI11     28.440     R$ 1,35  1,36%    R$ 173,8 mi     R$ 97,24   -2,21%   \n",
       "3   AFOF11      1.863     R$ 0,60  1,28%     R$ 70,7 mi    R$ 102,32   -4,13%   \n",
       "4   AIEC11      1.639     R$ 0,72  0,90%    R$ 488,5 mi    R$ 101,24   -3,08%   \n",
       "\n",
       "   p/vp  \n",
       "0  0,79  \n",
       "1  1,01  \n",
       "2  1,10  \n",
       "3  0,87  \n",
       "4  0,79  "
      ]
     },
     "execution_count": 3,
     "metadata": {},
     "output_type": "execute_result"
    }
   ],
   "source": [
    "df.head()"
   ]
  },
  {
   "cell_type": "code",
   "execution_count": null,
   "id": "6c4ff950",
   "metadata": {},
   "outputs": [],
   "source": []
  }
 ],
 "metadata": {
  "kernelspec": {
   "display_name": "Python 3 (ipykernel)",
   "language": "python",
   "name": "python3"
  },
  "language_info": {
   "codemirror_mode": {
    "name": "ipython",
    "version": 3
   },
   "file_extension": ".py",
   "mimetype": "text/x-python",
   "name": "python",
   "nbconvert_exporter": "python",
   "pygments_lexer": "ipython3",
   "version": "3.9.12"
  }
 },
 "nbformat": 4,
 "nbformat_minor": 5
}
