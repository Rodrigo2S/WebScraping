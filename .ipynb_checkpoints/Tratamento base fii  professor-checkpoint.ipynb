{
 "cells": [
  {
   "cell_type": "code",
   "execution_count": 1,
   "id": "b0e223f7",
   "metadata": {},
   "outputs": [],
   "source": [
    "import numpy as np \n",
    "import pandas as pd"
   ]
  },
  {
   "cell_type": "code",
   "execution_count": 2,
   "id": "b42d6e44",
   "metadata": {},
   "outputs": [
    {
     "data": {
      "text/plain": [
       "(353, 8)"
      ]
     },
     "execution_count": 2,
     "metadata": {},
     "output_type": "execute_result"
    }
   ],
   "source": [
    "df = pd.read_csv('data_fii_raw.csv', sep=';', decimal='.')\n",
    "df.shape"
   ]
  },
  {
   "cell_type": "code",
   "execution_count": 3,
   "id": "75460171",
   "metadata": {},
   "outputs": [
    {
     "data": {
      "text/html": [
       "<div>\n",
       "<style scoped>\n",
       "    .dataframe tbody tr th:only-of-type {\n",
       "        vertical-align: middle;\n",
       "    }\n",
       "\n",
       "    .dataframe tbody tr th {\n",
       "        vertical-align: top;\n",
       "    }\n",
       "\n",
       "    .dataframe thead th {\n",
       "        text-align: right;\n",
       "    }\n",
       "</style>\n",
       "<table border=\"1\" class=\"dataframe\">\n",
       "  <thead>\n",
       "    <tr style=\"text-align: right;\">\n",
       "      <th></th>\n",
       "      <th>nome_fii</th>\n",
       "      <th>liq diaria</th>\n",
       "      <th>ultimo rend</th>\n",
       "      <th>yield</th>\n",
       "      <th>patrim liquido</th>\n",
       "      <th>valor patrim</th>\n",
       "      <th>rent mes</th>\n",
       "      <th>p/vp</th>\n",
       "    </tr>\n",
       "  </thead>\n",
       "  <tbody>\n",
       "    <tr>\n",
       "      <th>0</th>\n",
       "      <td>ABCP11</td>\n",
       "      <td>1.721</td>\n",
       "      <td>R$ 0,65</td>\n",
       "      <td>0,88%</td>\n",
       "      <td>R$ 1,1 bi</td>\n",
       "      <td>R$ 91,83</td>\n",
       "      <td>-0,60%</td>\n",
       "      <td>0,79</td>\n",
       "    </tr>\n",
       "    <tr>\n",
       "      <th>1</th>\n",
       "      <td>AFCR11</td>\n",
       "      <td>957</td>\n",
       "      <td>R$ 1,30</td>\n",
       "      <td>1,25%</td>\n",
       "      <td>R$ 154,9 mi</td>\n",
       "      <td>R$ 102,29</td>\n",
       "      <td>1,05%</td>\n",
       "      <td>1,01</td>\n",
       "    </tr>\n",
       "    <tr>\n",
       "      <th>2</th>\n",
       "      <td>AFHI11</td>\n",
       "      <td>28.440</td>\n",
       "      <td>R$ 1,35</td>\n",
       "      <td>1,36%</td>\n",
       "      <td>R$ 173,8 mi</td>\n",
       "      <td>R$ 97,24</td>\n",
       "      <td>-2,21%</td>\n",
       "      <td>1,10</td>\n",
       "    </tr>\n",
       "    <tr>\n",
       "      <th>3</th>\n",
       "      <td>AFOF11</td>\n",
       "      <td>1.863</td>\n",
       "      <td>R$ 0,60</td>\n",
       "      <td>1,28%</td>\n",
       "      <td>R$ 70,7 mi</td>\n",
       "      <td>R$ 102,32</td>\n",
       "      <td>-4,13%</td>\n",
       "      <td>0,87</td>\n",
       "    </tr>\n",
       "    <tr>\n",
       "      <th>4</th>\n",
       "      <td>AIEC11</td>\n",
       "      <td>1.639</td>\n",
       "      <td>R$ 0,72</td>\n",
       "      <td>0,90%</td>\n",
       "      <td>R$ 488,5 mi</td>\n",
       "      <td>R$ 101,24</td>\n",
       "      <td>-3,08%</td>\n",
       "      <td>0,79</td>\n",
       "    </tr>\n",
       "  </tbody>\n",
       "</table>\n",
       "</div>"
      ],
      "text/plain": [
       "  nome_fii liq diaria ultimo rend  yield patrim liquido valor patrim rent mes  \\\n",
       "0   ABCP11      1.721     R$ 0,65  0,88%      R$ 1,1 bi     R$ 91,83   -0,60%   \n",
       "1   AFCR11        957     R$ 1,30  1,25%    R$ 154,9 mi    R$ 102,29    1,05%   \n",
       "2   AFHI11     28.440     R$ 1,35  1,36%    R$ 173,8 mi     R$ 97,24   -2,21%   \n",
       "3   AFOF11      1.863     R$ 0,60  1,28%     R$ 70,7 mi    R$ 102,32   -4,13%   \n",
       "4   AIEC11      1.639     R$ 0,72  0,90%    R$ 488,5 mi    R$ 101,24   -3,08%   \n",
       "\n",
       "   p/vp  \n",
       "0  0,79  \n",
       "1  1,01  \n",
       "2  1,10  \n",
       "3  0,87  \n",
       "4  0,79  "
      ]
     },
     "execution_count": 3,
     "metadata": {},
     "output_type": "execute_result"
    }
   ],
   "source": [
    "df.head()"
   ]
  },
  {
   "cell_type": "code",
   "execution_count": 4,
   "id": "252dd4fc",
   "metadata": {},
   "outputs": [
    {
     "data": {
      "text/plain": [
       "nome_fii          object\n",
       "liq diaria        object\n",
       "ultimo rend       object\n",
       "yield             object\n",
       "patrim liquido    object\n",
       "valor patrim      object\n",
       "rent mes          object\n",
       "p/vp              object\n",
       "dtype: object"
      ]
     },
     "execution_count": 4,
     "metadata": {},
     "output_type": "execute_result"
    }
   ],
   "source": [
    "df.dtypes"
   ]
  },
  {
   "cell_type": "code",
   "execution_count": 5,
   "id": "78a30d96",
   "metadata": {},
   "outputs": [
    {
     "data": {
      "text/plain": [
       "nome_fii           0\n",
       "liq diaria        30\n",
       "ultimo rend       20\n",
       "yield             36\n",
       "patrim liquido     6\n",
       "valor patrim       6\n",
       "rent mes          33\n",
       "p/vp              30\n",
       "dtype: int64"
      ]
     },
     "execution_count": 5,
     "metadata": {},
     "output_type": "execute_result"
    }
   ],
   "source": [
    "df.isnull().sum()"
   ]
  },
  {
   "cell_type": "code",
   "execution_count": 6,
   "id": "61190064",
   "metadata": {},
   "outputs": [],
   "source": [
    "df = df.fillna('0')"
   ]
  },
  {
   "cell_type": "code",
   "execution_count": 7,
   "id": "33c5eb2b",
   "metadata": {},
   "outputs": [],
   "source": [
    "df['liq diaria'] = df['liq diaria'].str.replace('.','', regex=False).astype(int)\n",
    "\n",
    "df['ultimo rend'] = df['ultimo rend'].str.replace('R$ ','', regex=False)\n",
    "df['ultimo rend'] = df['ultimo rend'].str.replace(',','.', regex=False).astype(float)\n",
    "\n",
    "df['yield'] = df['yield'].str.replace(',','.', regex=False)\n",
    "df['yield'] = df['yield'].str.replace('%','', regex=False).astype(float)/100"
   ]
  },
  {
   "cell_type": "code",
   "execution_count": 8,
   "id": "c6e0a338",
   "metadata": {},
   "outputs": [
    {
     "data": {
      "text/plain": [
       "array(['bi', 'mi', '0', '778.257,9'], dtype=object)"
      ]
     },
     "execution_count": 8,
     "metadata": {},
     "output_type": "execute_result"
    }
   ],
   "source": [
    "df['patrim liquido'].apply(lambda x: x.split(' ')[-1]).unique()"
   ]
  },
  {
   "cell_type": "code",
   "execution_count": 9,
   "id": "c8ff8ba3",
   "metadata": {},
   "outputs": [
    {
     "data": {
      "text/plain": [
       "778257.9"
      ]
     },
     "execution_count": 9,
     "metadata": {},
     "output_type": "execute_result"
    }
   ],
   "source": [
    "def trata_patr_liq(x):\n",
    "    x = x.replace('R$ ','')\n",
    "    x = x.replace('.','')\n",
    "    x = x.replace(',','.')\n",
    "    x = x.split(' ')\n",
    "    if x[-1] == 'mi':\n",
    "        x = float(x[0])*10**6\n",
    "    elif x[-1] == 'bi':\n",
    "        x = float(x[0])*10**9\n",
    "\n",
    "    if type(x) == type(list()):\n",
    "        x = float(x[0])\n",
    "    return x\n",
    "\n",
    "trata_patr_liq(x = 'R$ 778.257,9')"
   ]
  },
  {
   "cell_type": "code",
   "execution_count": 10,
   "id": "d075d638",
   "metadata": {},
   "outputs": [],
   "source": [
    "df['patrim liquido'] = df['patrim liquido'].apply(lambda x: trata_patr_liq(x))"
   ]
  },
  {
   "cell_type": "code",
   "execution_count": 11,
   "id": "2848d8f6",
   "metadata": {},
   "outputs": [],
   "source": [
    "df['valor patrim'] = df['valor patrim'].str.replace('R$ ','',regex=False)\n",
    "df['valor patrim'] = df['valor patrim'].str.replace('.','',regex=False)\n",
    "df['valor patrim'] = df['valor patrim'].str.replace(',','.',regex=False).astype(float)"
   ]
  },
  {
   "cell_type": "code",
   "execution_count": 12,
   "id": "0dfe736a",
   "metadata": {},
   "outputs": [],
   "source": [
    "df['rent mes'] = df['rent mes'].str.replace('%','',regex=False)\n",
    "df['rent mes'] = df['rent mes'].str.replace(',','.',regex=False).astype(float)/100"
   ]
  },
  {
   "cell_type": "code",
   "execution_count": 13,
   "id": "73b39a97",
   "metadata": {},
   "outputs": [],
   "source": [
    "df['p/vp'] = df['p/vp'].str.replace(',','.',regex=False).astype(float)"
   ]
  },
  {
   "cell_type": "code",
   "execution_count": 14,
   "id": "feaa38e0",
   "metadata": {},
   "outputs": [
    {
     "data": {
      "text/html": [
       "<div>\n",
       "<style scoped>\n",
       "    .dataframe tbody tr th:only-of-type {\n",
       "        vertical-align: middle;\n",
       "    }\n",
       "\n",
       "    .dataframe tbody tr th {\n",
       "        vertical-align: top;\n",
       "    }\n",
       "\n",
       "    .dataframe thead th {\n",
       "        text-align: right;\n",
       "    }\n",
       "</style>\n",
       "<table border=\"1\" class=\"dataframe\">\n",
       "  <thead>\n",
       "    <tr style=\"text-align: right;\">\n",
       "      <th></th>\n",
       "      <th>nome_fii</th>\n",
       "      <th>liq diaria</th>\n",
       "      <th>ultimo rend</th>\n",
       "      <th>yield</th>\n",
       "      <th>patrim liquido</th>\n",
       "      <th>valor patrim</th>\n",
       "      <th>rent mes</th>\n",
       "      <th>p/vp</th>\n",
       "    </tr>\n",
       "  </thead>\n",
       "  <tbody>\n",
       "    <tr>\n",
       "      <th>0</th>\n",
       "      <td>ABCP11</td>\n",
       "      <td>1721</td>\n",
       "      <td>0.65</td>\n",
       "      <td>0.0088</td>\n",
       "      <td>1.100000e+09</td>\n",
       "      <td>91.83</td>\n",
       "      <td>-0.0060</td>\n",
       "      <td>0.79</td>\n",
       "    </tr>\n",
       "    <tr>\n",
       "      <th>1</th>\n",
       "      <td>AFCR11</td>\n",
       "      <td>957</td>\n",
       "      <td>1.30</td>\n",
       "      <td>0.0125</td>\n",
       "      <td>1.549000e+08</td>\n",
       "      <td>102.29</td>\n",
       "      <td>0.0105</td>\n",
       "      <td>1.01</td>\n",
       "    </tr>\n",
       "    <tr>\n",
       "      <th>2</th>\n",
       "      <td>AFHI11</td>\n",
       "      <td>28440</td>\n",
       "      <td>1.35</td>\n",
       "      <td>0.0136</td>\n",
       "      <td>1.738000e+08</td>\n",
       "      <td>97.24</td>\n",
       "      <td>-0.0221</td>\n",
       "      <td>1.10</td>\n",
       "    </tr>\n",
       "    <tr>\n",
       "      <th>3</th>\n",
       "      <td>AFOF11</td>\n",
       "      <td>1863</td>\n",
       "      <td>0.60</td>\n",
       "      <td>0.0128</td>\n",
       "      <td>7.070000e+07</td>\n",
       "      <td>102.32</td>\n",
       "      <td>-0.0413</td>\n",
       "      <td>0.87</td>\n",
       "    </tr>\n",
       "    <tr>\n",
       "      <th>4</th>\n",
       "      <td>AIEC11</td>\n",
       "      <td>1639</td>\n",
       "      <td>0.72</td>\n",
       "      <td>0.0090</td>\n",
       "      <td>4.885000e+08</td>\n",
       "      <td>101.24</td>\n",
       "      <td>-0.0308</td>\n",
       "      <td>0.79</td>\n",
       "    </tr>\n",
       "  </tbody>\n",
       "</table>\n",
       "</div>"
      ],
      "text/plain": [
       "  nome_fii  liq diaria  ultimo rend   yield  patrim liquido  valor patrim  \\\n",
       "0   ABCP11        1721         0.65  0.0088    1.100000e+09         91.83   \n",
       "1   AFCR11         957         1.30  0.0125    1.549000e+08        102.29   \n",
       "2   AFHI11       28440         1.35  0.0136    1.738000e+08         97.24   \n",
       "3   AFOF11        1863         0.60  0.0128    7.070000e+07        102.32   \n",
       "4   AIEC11        1639         0.72  0.0090    4.885000e+08        101.24   \n",
       "\n",
       "   rent mes  p/vp  \n",
       "0   -0.0060  0.79  \n",
       "1    0.0105  1.01  \n",
       "2   -0.0221  1.10  \n",
       "3   -0.0413  0.87  \n",
       "4   -0.0308  0.79  "
      ]
     },
     "execution_count": 14,
     "metadata": {},
     "output_type": "execute_result"
    }
   ],
   "source": [
    "df.head()"
   ]
  },
  {
   "cell_type": "code",
   "execution_count": 15,
   "id": "e69671db",
   "metadata": {},
   "outputs": [],
   "source": [
    "df.to_csv('data_fii.csv', sep=';', decimal=',', index=False)"
   ]
  },
  {
   "cell_type": "code",
   "execution_count": null,
   "id": "cbce53cd",
   "metadata": {},
   "outputs": [],
   "source": []
  }
 ],
 "metadata": {
  "kernelspec": {
   "display_name": "Python 3 (ipykernel)",
   "language": "python",
   "name": "python3"
  },
  "language_info": {
   "codemirror_mode": {
    "name": "ipython",
    "version": 3
   },
   "file_extension": ".py",
   "mimetype": "text/x-python",
   "name": "python",
   "nbconvert_exporter": "python",
   "pygments_lexer": "ipython3",
   "version": "3.9.7"
  }
 },
 "nbformat": 4,
 "nbformat_minor": 5
}
